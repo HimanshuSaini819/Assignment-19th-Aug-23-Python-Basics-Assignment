{
  "nbformat": 4,
  "nbformat_minor": 0,
  "metadata": {
    "colab": {
      "provenance": []
    },
    "kernelspec": {
      "name": "python3",
      "display_name": "Python 3"
    },
    "language_info": {
      "name": "python"
    }
  },
  "cells": [
    {
      "cell_type": "code",
      "execution_count": 1,
      "metadata": {
        "id": "-mi00zO7GRl5"
      },
      "outputs": [],
      "source": [
        " # 1. Declare two variables, `x` and `y`, and assign them integer values. Swap the values of these variables without using any temporary variable."
      ]
    },
    {
      "cell_type": "code",
      "source": [
        "# frist variable is = x\n",
        "x = 10\n",
        "# secound variable is =y\n",
        "y = 20\n",
        "# swap the variable\n",
        "x = x + y\n",
        "y = x - y\n",
        "x = x - y"
      ],
      "metadata": {
        "id": "7jNpYdnLGVfo"
      },
      "execution_count": 5,
      "outputs": []
    },
    {
      "cell_type": "code",
      "source": [
        "x"
      ],
      "metadata": {
        "colab": {
          "base_uri": "https://localhost:8080/"
        },
        "id": "5nICIMd8HN-j",
        "outputId": "214bf924-dd41-47af-c106-89ec57bc1b1a"
      },
      "execution_count": 6,
      "outputs": [
        {
          "output_type": "execute_result",
          "data": {
            "text/plain": [
              "20"
            ]
          },
          "metadata": {},
          "execution_count": 6
        }
      ]
    },
    {
      "cell_type": "code",
      "source": [
        "y"
      ],
      "metadata": {
        "colab": {
          "base_uri": "https://localhost:8080/"
        },
        "id": "LZEiL777HP5R",
        "outputId": "29336d2f-6e04-4411-dae3-8a57c2ff9c04"
      },
      "execution_count": 7,
      "outputs": [
        {
          "output_type": "execute_result",
          "data": {
            "text/plain": [
              "10"
            ]
          },
          "metadata": {},
          "execution_count": 7
        }
      ]
    },
    {
      "cell_type": "code",
      "source": [
        "# 2. Create a program that calculates the area of a rectangle. Take the length and width as inputs from the user and store them in variables. Calculate and display the area."
      ],
      "metadata": {
        "id": "2CH4at_xHRXX"
      },
      "execution_count": 8,
      "outputs": []
    },
    {
      "cell_type": "code",
      "source": [
        "# area of rectangle = length * with\n",
        "l = input(\"enter the length of rectangle\")\n",
        "w = input(\"enter the width of rectangle\")\n",
        "area = int(l)* int(w)\n",
        "print = (\"area of rectangle is\",area)"
      ],
      "metadata": {
        "colab": {
          "base_uri": "https://localhost:8080/"
        },
        "id": "aqKWPnJOI1hn",
        "outputId": "480f9af4-5fe5-4519-e835-3b4af5d4574e"
      },
      "execution_count": 9,
      "outputs": [
        {
          "name": "stdout",
          "output_type": "stream",
          "text": [
            "enter the length of rectangle25\n",
            "enter the width of rectangle30\n"
          ]
        }
      ]
    },
    {
      "cell_type": "code",
      "source": [
        "area"
      ],
      "metadata": {
        "colab": {
          "base_uri": "https://localhost:8080/"
        },
        "id": "KZrvr5rXKz1x",
        "outputId": "eed4974f-b00d-4960-94b9-931374c4eb9a"
      },
      "execution_count": 10,
      "outputs": [
        {
          "output_type": "execute_result",
          "data": {
            "text/plain": [
              "750"
            ]
          },
          "metadata": {},
          "execution_count": 10
        }
      ]
    },
    {
      "cell_type": "code",
      "source": [
        "# 3. Write a Python program that converts temperatures from Celsius to Fahrenheit. Take the temperature in Celsius as input, store it in a variable, convert it to Fahrenheit, and display the result."
      ],
      "metadata": {
        "id": "n0IYmP3-K9SH"
      },
      "execution_count": 11,
      "outputs": []
    },
    {
      "cell_type": "code",
      "source": [
        "c = float(input(\"enter tempeture in celsius\"))\n",
        "f = (c * 9/5) + 32\n",
        "# c = celsius\n",
        "# f = fahrenheit\n",
        "print = (\"tempeture in fahrenheit is\",f)"
      ],
      "metadata": {
        "colab": {
          "base_uri": "https://localhost:8080/"
        },
        "id": "Q8jK0I8uLU6C",
        "outputId": "3e51726e-7d91-4362-bf1a-a5f0924dd221"
      },
      "execution_count": 12,
      "outputs": [
        {
          "name": "stdout",
          "output_type": "stream",
          "text": [
            "enter tempeture in celsius18\n"
          ]
        }
      ]
    },
    {
      "cell_type": "code",
      "source": [
        "f"
      ],
      "metadata": {
        "colab": {
          "base_uri": "https://localhost:8080/"
        },
        "id": "1Q2D6RKRMnXN",
        "outputId": "f67ab6c3-1c79-492c-c459-0b8953ce68e7"
      },
      "execution_count": 13,
      "outputs": [
        {
          "output_type": "execute_result",
          "data": {
            "text/plain": [
              "64.4"
            ]
          },
          "metadata": {},
          "execution_count": 13
        }
      ]
    },
    {
      "cell_type": "code",
      "source": [
        "# TOPIC: String Based Questions\n"
      ],
      "metadata": {
        "id": "-wIIqVCRMqpB"
      },
      "execution_count": 14,
      "outputs": []
    },
    {
      "cell_type": "code",
      "source": [
        "# 1. Write a Python program that takes a string as input and prints the length of the string."
      ],
      "metadata": {
        "id": "jCEqAjPKM2iY"
      },
      "execution_count": 15,
      "outputs": []
    },
    {
      "cell_type": "code",
      "source": [
        "s = str(input(\" enter the string \"))\n",
        "print = (\" length of string is \")\n",
        "# s = string"
      ],
      "metadata": {
        "colab": {
          "base_uri": "https://localhost:8080/"
        },
        "id": "H2fwiTUDM-Oi",
        "outputId": "faeb9ea2-c58e-441d-d78b-b275cdf14b8b"
      },
      "execution_count": 20,
      "outputs": [
        {
          "name": "stdout",
          "output_type": "stream",
          "text": [
            " enter the string meerut\n"
          ]
        }
      ]
    },
    {
      "cell_type": "code",
      "source": [
        "len(s)"
      ],
      "metadata": {
        "colab": {
          "base_uri": "https://localhost:8080/"
        },
        "id": "x-8V6MsqNdCd",
        "outputId": "d8709776-d88f-4219-f359-6441726ee442"
      },
      "execution_count": 21,
      "outputs": [
        {
          "output_type": "execute_result",
          "data": {
            "text/plain": [
              "6"
            ]
          },
          "metadata": {},
          "execution_count": 21
        }
      ]
    },
    {
      "cell_type": "code",
      "source": [
        "#2. Create a program that takes a sentence from the user and counts the numberof vowels (a, e, i, o, u) in the string."
      ],
      "metadata": {
        "id": "nOWMippDNig4"
      },
      "execution_count": 22,
      "outputs": []
    },
    {
      "cell_type": "code",
      "source": [
        "s = str(input(\" enter a sentence \"))\n",
        "# s= sentence"
      ],
      "metadata": {
        "colab": {
          "base_uri": "https://localhost:8080/"
        },
        "id": "0H1ooLuGN_ND",
        "outputId": "58cbf064-340a-4d8b-a87a-c51e144cdca4"
      },
      "execution_count": 31,
      "outputs": [
        {
          "name": "stdout",
          "output_type": "stream",
          "text": [
            " enter a sentence my name is himanshu \n"
          ]
        }
      ]
    },
    {
      "cell_type": "code",
      "source": [
        "s.count('a')+s.count('e')+s.count('i')+s.count('o')+s.count('u')"
      ],
      "metadata": {
        "colab": {
          "base_uri": "https://localhost:8080/"
        },
        "id": "C5A6oN9pOj-Q",
        "outputId": "660cec74-586d-480d-dece-d11ef799c889"
      },
      "execution_count": 32,
      "outputs": [
        {
          "output_type": "execute_result",
          "data": {
            "text/plain": [
              "6"
            ]
          },
          "metadata": {},
          "execution_count": 32
        }
      ]
    },
    {
      "cell_type": "code",
      "source": [
        "# 3. Given a string, reverse the order of characters using string slicing and print the reversed string."
      ],
      "metadata": {
        "id": "fKExJczkQEIz"
      },
      "execution_count": 33,
      "outputs": []
    },
    {
      "cell_type": "code",
      "source": [
        "s = str(input(\" enter a string \"))\n",
        "# s = string\n",
        "reversed_string = s[::-1]\n",
        "print = (\"reversed string is\")"
      ],
      "metadata": {
        "colab": {
          "base_uri": "https://localhost:8080/"
        },
        "id": "kC7i2Sc8Q8UN",
        "outputId": "930a8277-2e02-4815-b9d6-8e15a3599085"
      },
      "execution_count": 35,
      "outputs": [
        {
          "name": "stdout",
          "output_type": "stream",
          "text": [
            " enter a string pwskills \n"
          ]
        }
      ]
    },
    {
      "cell_type": "code",
      "source": [
        "reversed_string"
      ],
      "metadata": {
        "colab": {
          "base_uri": "https://localhost:8080/",
          "height": 35
        },
        "id": "_AMHps5TRhEV",
        "outputId": "3da9dee0-0ac9-450f-c497-a43ed1e5c8c0"
      },
      "execution_count": 36,
      "outputs": [
        {
          "output_type": "execute_result",
          "data": {
            "text/plain": [
              "' sllikswp'"
            ],
            "application/vnd.google.colaboratory.intrinsic+json": {
              "type": "string"
            }
          },
          "metadata": {},
          "execution_count": 36
        }
      ]
    },
    {
      "cell_type": "code",
      "source": [
        "# 4. Write a program that takes a string as input and checks if it is a palindrome(reads the same forwards and backwards)."
      ],
      "metadata": {
        "id": "feY4COJAR2eg"
      },
      "execution_count": 37,
      "outputs": []
    },
    {
      "cell_type": "code",
      "source": [
        "string = input(\"enter a string\")\n",
        "'if string == string[::-1]:\n",
        "    print(\"it is a palindrome\")\n",
        "else:\n",
        "    print(\"it is not a palindrome\")"
      ],
      "metadata": {
        "colab": {
          "base_uri": "https://localhost:8080/",
          "height": 105
        },
        "id": "YKWzQ7yvUVIA",
        "outputId": "6128643f-e1b5-48c3-9d90-3333811e1fcd"
      },
      "execution_count": 48,
      "outputs": [
        {
          "output_type": "error",
          "ename": "SyntaxError",
          "evalue": "unterminated string literal (detected at line 2) (<ipython-input-48-751bc906fc64>, line 2)",
          "traceback": [
            "\u001b[0;36m  File \u001b[0;32m\"<ipython-input-48-751bc906fc64>\"\u001b[0;36m, line \u001b[0;32m2\u001b[0m\n\u001b[0;31m    'if string == string[::-1]:\u001b[0m\n\u001b[0m    ^\u001b[0m\n\u001b[0;31mSyntaxError\u001b[0m\u001b[0;31m:\u001b[0m unterminated string literal (detected at line 2)\n"
          ]
        }
      ]
    },
    {
      "cell_type": "code",
      "source": [
        "# 5. Create a program that takes a string as input and removes all the spaces from it. Print the modified string without spaces."
      ],
      "metadata": {
        "id": "naNNhquaUdvT"
      },
      "execution_count": 49,
      "outputs": []
    },
    {
      "cell_type": "code",
      "source": [
        "string = input(\"enter a string\")\n",
        "modifide_string = string.replace(\" \",\"\")\n",
        "print = (\"modifide string is\")"
      ],
      "metadata": {
        "colab": {
          "base_uri": "https://localhost:8080/"
        },
        "id": "_ipTAb1EU7HQ",
        "outputId": "965ea252-64a5-499a-a914-f69f32cf2523"
      },
      "execution_count": 52,
      "outputs": [
        {
          "name": "stdout",
          "output_type": "stream",
          "text": [
            "enter a stringI love my india\n"
          ]
        }
      ]
    },
    {
      "cell_type": "code",
      "source": [
        "modifide_string"
      ],
      "metadata": {
        "colab": {
          "base_uri": "https://localhost:8080/",
          "height": 35
        },
        "id": "KLELDXZoVXYY",
        "outputId": "1fa39e04-a561-4fec-e3d3-f48fa9b9432f"
      },
      "execution_count": 53,
      "outputs": [
        {
          "output_type": "execute_result",
          "data": {
            "text/plain": [
              "'Ilovemyindia'"
            ],
            "application/vnd.google.colaboratory.intrinsic+json": {
              "type": "string"
            }
          },
          "metadata": {},
          "execution_count": 53
        }
      ]
    },
    {
      "cell_type": "code",
      "source": [],
      "metadata": {
        "id": "XrUhcBpIViWA"
      },
      "execution_count": null,
      "outputs": []
    }
  ]
}